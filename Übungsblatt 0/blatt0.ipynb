{
 "cells": [
  {
   "cell_type": "markdown",
   "metadata": {},
   "source": [
    "# Deep Learning für Visual Computing: Übungsblat 00\n",
    "\n",
    "Von: **Maximilian Mundt, Radmehr Nouri Inanlou**\n",
    "\n",
    "Abgabe: **13.04.2022**"
   ]
  },
  {
   "cell_type": "markdown",
   "metadata": {},
   "source": [
    "## Aufgabe 3: Testen Sie Ihre Installation"
   ]
  },
  {
   "cell_type": "code",
   "execution_count": 6,
   "metadata": {},
   "outputs": [
    {
     "name": "stdout",
     "output_type": "stream",
     "text": [
      "tensor(3.1416)\n"
     ]
    }
   ],
   "source": [
    "import torch\n",
    "\n",
    "n = torch.arange(0, 30000)\n",
    "enum = torch.pow(-1, n)\n",
    "denom = 2 * n + 1\n",
    "\n",
    "print(4 * torch.sum(enum / denom))"
   ]
  },
  {
   "cell_type": "markdown",
   "metadata": {},
   "source": [
    "## Aufgabe 4: Die Tensor Klasse"
   ]
  },
  {
   "cell_type": "markdown",
   "metadata": {},
   "source": [
    "Pytorch importieren"
   ]
  },
  {
   "cell_type": "code",
   "execution_count": 2,
   "metadata": {},
   "outputs": [],
   "source": [
    "import torch\n",
    "\n",
    "# Funktion, die die Dimension und die Größe eines Tensor ausgibt\n",
    "def print_dim_size(tensor):\n",
    "    pretty_size = \"x\".join(str(i) for i in tensor.size())\n",
    "\n",
    "    print(f\"Dimension: {tensor.dim()} | Size: {pretty_size}\")"
   ]
  },
  {
   "cell_type": "markdown",
   "metadata": {},
   "source": [
    "Erstelle einen nicht initialisierten Tensor mit Dimension 3, der 128 1 × 4 Zeilenvektor\n",
    "und einen Tensor in dem alle 128 5 × 1 Spaltenvektoren mit Null initialisiert sind.\n",
    "Erzeugen Sie weitere Tensorobjekte mit der selben Größe bei dem alle Einträge mit 1\n",
    "und mit 3.14 initialisiert werden."
   ]
  },
  {
   "cell_type": "code",
   "execution_count": 3,
   "metadata": {},
   "outputs": [
    {
     "name": "stdout",
     "output_type": "stream",
     "text": [
      "Dimension: 3 | Size: 128x5x1\n"
     ]
    }
   ],
   "source": [
    "# 128 1x4 Zeilenvektoren\n",
    "tensor1 = torch.empty(size=(128, 1, 4))\n",
    "\n",
    "# 128 5x1 Spaltenvektor\n",
    "tensor2 = torch.zeros(size=(128, 5, 1))\n",
    "\n",
    "# Tensor derselben Größe, alle mit 1 initialisiert\n",
    "tensor3 = torch.ones_like(tensor2)\n",
    "\n",
    "# Tensor derselben Größe, alle mit 3.14 initialisiert\n",
    "tensor4 = torch.full_like(tensor2, fill_value=3.14)"
   ]
  },
  {
   "cell_type": "markdown",
   "metadata": {},
   "source": [
    "Gebe die Größe, Dimension und den Datentyp der Einträge für einen der zuvor erzeugten\n",
    "Tensorobjekte aus."
   ]
  },
  {
   "cell_type": "code",
   "execution_count": 5,
   "metadata": {},
   "outputs": [
    {
     "name": "stdout",
     "output_type": "stream",
     "text": [
      "zu 128x1x4:\n",
      "Größe: torch.Size([128, 1, 4])\n",
      "Dimension: 3\n",
      "Datentyp: torch.float32\n"
     ]
    }
   ],
   "source": [
    "# Größe, Dimension und Datentyp des 128x1x4 Tensors\n",
    "print(\"zu 128x1x4:\")\n",
    "print(\"Größe:\", tensor1.size())\n",
    "print(\"Dimension:\", tensor1.dim())\n",
    "print(\"Datentyp:\", tensor1.dtype)"
   ]
  },
  {
   "cell_type": "markdown",
   "metadata": {},
   "source": [
    "Finden Sie heraus welchen Standard-Datentyp PyTorch für die Einträge eines Tensors\n",
    "verwendet. Konvertieren Sie die Datentypen der zuvor erzeugen Tensorobjekte zu\n",
    "int32, long, float, double."
   ]
  },
  {
   "cell_type": "code",
   "execution_count": 4,
   "metadata": {},
   "outputs": [
    {
     "name": "stdout",
     "output_type": "stream",
     "text": [
      "Standard-Datentyp: torch.float32\n"
     ]
    }
   ],
   "source": [
    "# Standard-Datentyp\n",
    "print(\"Standard-Datentyp:\", torch.Tensor().dtype)\n",
    "\n",
    "# Konvertieren des Datentyps von tensor4\n",
    "tensor4_int = tensor4.to(dtype=torch.int32)\n",
    "tensor4_long = tensor4.to(dtype=torch.long)\n",
    "tensor4_float = tensor4.to(dtype=torch.float)\n",
    "tensor4_double = tensor4.to(dtype=torch.double)"
   ]
  },
  {
   "cell_type": "markdown",
   "metadata": {},
   "source": [
    "Erzeugen Sie eine Kopie eines Tensors der 1 × 4 Splatenvektoren enthält und ändern\n",
    "Sie die Form des Tensors so dass dieser 128 Zeilenvektoren 1 × 4 enthält."
   ]
  },
  {
   "cell_type": "code",
   "execution_count": 157,
   "metadata": {},
   "outputs": [
    {
     "name": "stdout",
     "output_type": "stream",
     "text": [
      "Dimension: 3 | Size: 128x1x4\n"
     ]
    }
   ],
   "source": [
    "# Kopie eines Tensors\n",
    "tensor5 = torch.Tensor(size=(128, 4, 1)).clone().reshape(128, 1, 4)\n",
    "print_dim_size(tensor5)"
   ]
  },
  {
   "cell_type": "markdown",
   "metadata": {},
   "source": [
    "Erzeugen Sie einen Tensor mit der Form 1 × 128 × 6 des Einträge mit Zufallszahlen\n",
    "gefüllt sind und ändern Sie seine Form so dass Sie\n",
    "- einen Tensor mit Dimension 2 erhalten, der eine 128 × 6 Matrix darstellt.\n",
    "- einen Tensor mit Dimension 3 erhalten, der 128 1 × 6 Zeilenvektoren erhält.\n",
    "- einen Tensor mit Dimension 3 erhalten, der 128 6 × 1 Splatenvektoren erhält.\n",
    "- einen Tensor mit Dimension 1 erhalten, der 758 Einträge hat."
   ]
  },
  {
   "cell_type": "code",
   "execution_count": 159,
   "metadata": {},
   "outputs": [
    {
     "name": "stdout",
     "output_type": "stream",
     "text": [
      "Dimension: 2 | Size: 128x6\n",
      "Dimension: 3 | Size: 128x1x6\n",
      "Dimension: 3 | Size: 128x6x1\n",
      "Dimension: 1 | Size: 768\n"
     ]
    }
   ],
   "source": [
    "# Tensor der Form 1x128x6 mit Zufallszahlen zwischen 0 und 100\n",
    "tensor6 = torch.randint(size=(1, 128, 6), low=0, high=101)\n",
    "\n",
    "# Jeweils veränderte Form\n",
    "tensor7 = tensor6.squeeze() # Alle Dimensionen, die 1 sind, werden \"gelöscht\"\n",
    "print_dim_size(tensor7)\n",
    "\n",
    "tensor8 = tensor6.transpose(dim0=0, dim1=1) # dim0 und dim1 werden getauscht\n",
    "print_dim_size(tensor8)\n",
    " \n",
    "tensor9 = tensor6.permute(1, 2, 0) # Reihenfolge der Dimensionen wird getauscht, Zahlen sind die vorherigen Indizes der Dimensionen\n",
    "print_dim_size(tensor9)\n",
    "\n",
    "tensor10 = tensor6.flatten() # Alle Werte werden Teil einer Dimension -> wie eine Liste\n",
    "print_dim_size(tensor10)"
   ]
  },
  {
   "cell_type": "markdown",
   "metadata": {},
   "source": [
    "Erstelle Sie einen Tensor mit 128 6×5 Nullmatrixen und transponieren Sie alle Matrizen\n",
    "mit einer Methode der Klasse `torch.Tensor`."
   ]
  },
  {
   "cell_type": "code",
   "execution_count": 160,
   "metadata": {},
   "outputs": [
    {
     "name": "stdout",
     "output_type": "stream",
     "text": [
      "Dimension: 3 | Size: 128x5x6\n"
     ]
    }
   ],
   "source": [
    "# Transponieren aller Matrizen: 6x5 -> 5x6\n",
    "tensor11 = torch.zeros(size=(128, 6, 5)).transpose(1, 2)\n",
    "print_dim_size(tensor11)"
   ]
  },
  {
   "cell_type": "markdown",
   "metadata": {},
   "source": [
    "Erzeuge einen Tensor mit der Form 128 × 4 und einen 4-dim Vektor. Bei beiden\n",
    "Tensorobjekten sollen die Einträge mit zufälligen Werten initialisiert werden.\n",
    "- Verwenden Sie torch.matmul um das innere Produkt und Dyadisches Produkt\n",
    "element-weise zwischen allen den 4-dim. Vektoren zu berechnen.\n",
    "- Berechne das Matrix Vektor Produkt zwischen dem 4-dim. Vektor und allen 4×4\n",
    "Matrizen, die sich auf dem Dyadischen Produkt ergeben haben."
   ]
  },
  {
   "cell_type": "code",
   "execution_count": null,
   "metadata": {},
   "outputs": [],
   "source": [
    "# todo"
   ]
  },
  {
   "cell_type": "markdown",
   "metadata": {},
   "source": [
    "Erzeugen Sie einen Tensor mit der Form 128 × 4 × 4 bei dem die Einträge aus einer\n",
    "Normalverteilung gezogen werden.\n",
    "- Setze alle negativen Elemente einer Matrix auf 0.\n",
    "- Gebe die dritte Spalte der vorletzten 4 × 4 Matrix aus.\n",
    "- Geben Sie die Spur der letzten 64 4 × 4 Matrizen aus."
   ]
  },
  {
   "cell_type": "code",
   "execution_count": 20,
   "metadata": {},
   "outputs": [
    {
     "name": "stdout",
     "output_type": "stream",
     "text": [
      "tensor([ 7.6510, 14.3493,  9.1092,  6.5699])\n",
      "-64 tensor(38.6160)\n",
      "-63 tensor(34.8331)\n",
      "-62 tensor(40.6311)\n",
      "-61 tensor(43.1486)\n",
      "-60 tensor(44.8363)\n",
      "-59 tensor(39.9533)\n",
      "-58 tensor(36.3733)\n",
      "-57 tensor(35.2354)\n",
      "-56 tensor(35.5582)\n",
      "-55 tensor(49.9864)\n",
      "-54 tensor(42.0920)\n",
      "-53 tensor(30.5985)\n",
      "-52 tensor(39.1853)\n",
      "-51 tensor(33.0203)\n",
      "-50 tensor(33.3303)\n",
      "-49 tensor(42.0068)\n",
      "-48 tensor(41.0997)\n",
      "-47 tensor(37.4175)\n",
      "-46 tensor(27.2086)\n",
      "-45 tensor(48.5374)\n",
      "-44 tensor(33.7429)\n",
      "-43 tensor(40.1726)\n",
      "-42 tensor(43.8326)\n",
      "-41 tensor(44.5626)\n",
      "-40 tensor(43.0822)\n",
      "-39 tensor(27.8054)\n",
      "-38 tensor(42.3847)\n",
      "-37 tensor(51.5169)\n",
      "-36 tensor(30.2769)\n",
      "-35 tensor(37.7965)\n",
      "-34 tensor(47.3535)\n",
      "-33 tensor(40.3328)\n",
      "-32 tensor(44.5035)\n",
      "-31 tensor(40.5655)\n",
      "-30 tensor(33.7614)\n",
      "-29 tensor(37.7862)\n",
      "-28 tensor(44.8890)\n",
      "-27 tensor(42.9860)\n",
      "-26 tensor(48.0858)\n",
      "-25 tensor(47.8337)\n",
      "-24 tensor(34.6704)\n",
      "-23 tensor(37.8976)\n",
      "-22 tensor(41.7185)\n",
      "-21 tensor(44.8371)\n",
      "-20 tensor(51.3717)\n",
      "-19 tensor(30.7204)\n",
      "-18 tensor(35.0581)\n",
      "-17 tensor(30.2798)\n",
      "-16 tensor(46.4961)\n",
      "-15 tensor(41.2180)\n",
      "-14 tensor(49.4041)\n",
      "-13 tensor(40.8899)\n",
      "-12 tensor(35.8394)\n",
      "-11 tensor(36.7900)\n",
      "-10 tensor(53.3819)\n",
      "-9 tensor(33.7459)\n",
      "-8 tensor(37.2284)\n",
      "-7 tensor(33.4187)\n",
      "-6 tensor(37.2260)\n",
      "-5 tensor(42.0874)\n",
      "-4 tensor(33.8088)\n",
      "-3 tensor(41.4430)\n",
      "-2 tensor(25.1710)\n",
      "-1 tensor(44.2799)\n"
     ]
    }
   ],
   "source": [
    "tensor12 = torch.normal(mean=10, std=3, size=(128, 4, 4))\n",
    "\n",
    "# Fülle erste Matrix mit Nullen\n",
    "tensor12[0, :, :] = 0\n",
    "\n",
    "# Dritte Spalte der vorletzten 4 x 4 Matrix\n",
    "print(tensor12[-2, :, 2])\n",
    "\n",
    "# Spur der letzten 64 4 x 4 Matrizen\n",
    "for i in range(-64, 0):\n",
    "    print(i, torch.trace(tensor12[i, :, :]))"
   ]
  },
  {
   "cell_type": "markdown",
   "metadata": {},
   "source": [
    "Erzeuge zwei ein-dimensionale Tensoren mit je 100 Einträgen bei denen die Einträge\n",
    "normalverteilt sind.\n",
    "- Setze jedes zweite Element eines der Vektoren auf null.\n",
    "- Erzeuge einen Vektor der jedes dritte Element des zweiten Vektors enthält.\n",
    "- Verwende `torch.argsort` um die Werte des zweiten Vektors entsprechend der\n",
    "Werte des ersten Tensors in absteigender Reihenfolge zu sortieren.\n"
   ]
  },
  {
   "cell_type": "code",
   "execution_count": 31,
   "metadata": {},
   "outputs": [
    {
     "name": "stdout",
     "output_type": "stream",
     "text": [
      "tensor([65,  3,  9,  5, 15, 23, 97, 39, 17, 43, 11, 29, 59, 49, 33, 85, 55, 67,\n",
      "        53, 31, 75,  7, 13, 69, 35, 61, 81, 99, 73, 25,  1, 37, 79, 71, 47, 93,\n",
      "        95, 41, 83, 21, 57, 87, 27, 89, 91, 51, 63, 77, 19, 45, 12,  0, 52,  2,\n",
      "        54,  4, 56,  6, 58,  8, 60, 10, 62, 14, 64, 16, 66, 18, 68, 20, 70, 22,\n",
      "        72, 24, 74, 26, 76, 28, 78, 30, 80, 32, 82, 34, 84, 36, 86, 50, 88, 38,\n",
      "        90, 40, 92, 42, 94, 44, 96, 46, 98, 48])\n"
     ]
    }
   ],
   "source": [
    "tensor13 = torch.normal(mean=10, std=3, size=(100,)) # Erster Vektor\n",
    "tensor14 = torch.normal(mean=10, std=3, size=(100,)) # Zweiter Vektor\n",
    "\n",
    "# Jedes zweite Element des ersten Vektors auf null\n",
    "tensor13[::2] = 0\n",
    "\n",
    "# Vektor, der jedes dritte Element des zweiten Vektors enthält\n",
    "tensor15 = tensor14[::3]\n",
    "\n",
    "# torch.argsort\n",
    "sort_indices = torch.argsort(tensor13, descending=True)\n",
    "print(sort_indices)\n",
    "\n",
    "tensor14 = tensor14[sort_indices]"
   ]
  }
 ],
 "metadata": {
  "interpreter": {
   "hash": "b03a09766fb077730d523d7cc7d8bbf5f028be592eb14e6dd629251b060318c5"
  },
  "kernelspec": {
   "display_name": "Python 3.10.4 ('pytorch')",
   "language": "python",
   "name": "python3"
  },
  "language_info": {
   "codemirror_mode": {
    "name": "ipython",
    "version": 3
   },
   "file_extension": ".py",
   "mimetype": "text/x-python",
   "name": "python",
   "nbconvert_exporter": "python",
   "pygments_lexer": "ipython3",
   "version": "3.10.4"
  },
  "orig_nbformat": 4
 },
 "nbformat": 4,
 "nbformat_minor": 2
}
