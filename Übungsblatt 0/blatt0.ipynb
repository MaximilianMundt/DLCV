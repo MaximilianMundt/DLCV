{
 "cells": [
  {
   "cell_type": "markdown",
   "metadata": {},
   "source": [
    "# DLVC Übungsblatt 00\n",
    "\n",
    "Von: **Maximilian Mundt, Radmehr Nouri Inanlou**\n",
    "\n",
    "Abgabe: **13.04.2022**"
   ]
  },
  {
   "cell_type": "markdown",
   "metadata": {},
   "source": [
    "## Check pytorch installation"
   ]
  },
  {
   "cell_type": "code",
   "execution_count": 11,
   "metadata": {},
   "outputs": [
    {
     "data": {
      "text/plain": [
       "tensor(3.1416)"
      ]
     },
     "execution_count": 11,
     "metadata": {},
     "output_type": "execute_result"
    }
   ],
   "source": [
    "import torch\n",
    "\n",
    "n = torch.arange(0, 30000)\n",
    "enum = torch.pow(-1, n)\n",
    "denom = 2 * n + 1\n",
    "\n",
    "4 * torch.sum(enum / denom)\n"
   ]
  },
  {
   "cell_type": "markdown",
   "metadata": {},
   "source": [
    "## Aufgabe 4"
   ]
  },
  {
   "cell_type": "code",
   "execution_count": 137,
   "metadata": {},
   "outputs": [],
   "source": [
    "# Funktion, die die Dimension und die Größe eines Tensor ausgibt\n",
    "def print_dim_size(tensor):\n",
    "    pretty_size = \"x\".join(str(i) for i in tensor.size())\n",
    "    print(f\"Dimension: {tensor.dim()} | Size: {pretty_size}\")\n"
   ]
  },
  {
   "cell_type": "code",
   "execution_count": 140,
   "metadata": {},
   "outputs": [],
   "source": [
    "# 128 1x4 Zeilenvektoren\n",
    "tensor1 = torch.empty(size=(128, 1, 4))\n",
    "\n",
    "# 128 5x1 Spaltenvektor\n",
    "tensor2 = torch.zeros(size=(128, 5, 1))\n",
    "\n",
    "# Tensor derselben Größe, alle mit 1 initialisiert\n",
    "tensor3 = torch.ones_like(tensor2)\n",
    "\n",
    "# Tensor derselben Größe, alle mit 3.14 initialisiert\n",
    "tensor4 = torch.full_like(tensor2, fill_value=3.14)\n"
   ]
  },
  {
   "cell_type": "code",
   "execution_count": 141,
   "metadata": {},
   "outputs": [
    {
     "name": "stdout",
     "output_type": "stream",
     "text": [
      "zu 128x1x4:\n",
      "Größe: torch.Size([128, 1, 4])\n",
      "Dimension: 3\n",
      "Datentyp: torch.float32\n"
     ]
    }
   ],
   "source": [
    "# Größe, Dimension und Datentyp von dem 128x1x4 Tensor\n",
    "print(\"zu 128x1x4:\")\n",
    "print(\"Größe:\", tensor1.size())\n",
    "print(\"Dimension:\", tensor1.dim())\n",
    "print(\"Datentyp:\", tensor1.dtype)\n"
   ]
  },
  {
   "cell_type": "code",
   "execution_count": 156,
   "metadata": {},
   "outputs": [
    {
     "name": "stdout",
     "output_type": "stream",
     "text": [
      "Standard-Datentyp: torch.float32\n"
     ]
    }
   ],
   "source": [
    "# Standard-Datentyp\n",
    "print(\"Standard-Datentyp:\", torch.Tensor().dtype)\n",
    "\n",
    "# Konvertieren des Datentyps von tensor4\n",
    "tensor4_int = tensor4.to(dtype=torch.int32)\n",
    "tensor4_long = tensor4.to(dtype=torch.long)\n",
    "tensor4_float = tensor4.to(dtype=torch.float)\n",
    "tensor4_double = tensor4.to(dtype=torch.double)\n"
   ]
  },
  {
   "cell_type": "code",
   "execution_count": 157,
   "metadata": {},
   "outputs": [
    {
     "name": "stdout",
     "output_type": "stream",
     "text": [
      "Dimension: 3 | Size: 128x1x4\n"
     ]
    }
   ],
   "source": [
    "# Kopie eines Tensors\n",
    "tensor5 = torch.Tensor(size=(128, 4, 1)).clone().reshape(128, 1, 4)\n",
    "print_dim_size(tensor5)\n"
   ]
  },
  {
   "cell_type": "code",
   "execution_count": 159,
   "metadata": {},
   "outputs": [
    {
     "name": "stdout",
     "output_type": "stream",
     "text": [
      "Dimension: 2 | Size: 128x6\n",
      "Dimension: 3 | Size: 128x1x6\n",
      "Dimension: 3 | Size: 128x6x1\n",
      "Dimension: 1 | Size: 768\n"
     ]
    }
   ],
   "source": [
    "# Tensor der Form 1x128x6 mit Zufallszahlen zwischen 0 und 100\n",
    "tensor6 = torch.randint(size=(1, 128, 6), low=0, high=101)\n",
    "\n",
    "# Jeweils veränderte Form\n",
    "tensor7 = tensor6.squeeze() # Alle Dimensionen, die 1 sind, werden \"gelöscht\"\n",
    "print_dim_size(tensor7)\n",
    "\n",
    "tensor8 = tensor6.transpose(dim0=0, dim1=1) # dim0 und dim1 werden getauscht\n",
    "print_dim_size(tensor8)\n",
    " \n",
    "tensor9 = tensor6.permute(1, 2, 0) # Reihenfolge der Dimensionen wird getauscht\n",
    "print_dim_size(tensor9)\n",
    "\n",
    "tensor10 = tensor6.flatten() # Alle Werte werden Teil einer Dimension -> wie eine Liste\n",
    "print_dim_size(tensor10)\n"
   ]
  },
  {
   "cell_type": "code",
   "execution_count": 160,
   "metadata": {},
   "outputs": [
    {
     "name": "stdout",
     "output_type": "stream",
     "text": [
      "Dimension: 3 | Size: 128x5x6\n"
     ]
    }
   ],
   "source": [
    "# Transponieren aller Matrizen: 6x5 -> 5x6\n",
    "tensor11 = torch.zeros(size=(128, 6, 5)).transpose(1, 2)\n",
    "print_dim_size(tensor11)"
   ]
  }
 ],
 "metadata": {
  "interpreter": {
   "hash": "b03a09766fb077730d523d7cc7d8bbf5f028be592eb14e6dd629251b060318c5"
  },
  "kernelspec": {
   "display_name": "Python 3.10.4 ('pytorch')",
   "language": "python",
   "name": "python3"
  },
  "language_info": {
   "codemirror_mode": {
    "name": "ipython",
    "version": 3
   },
   "file_extension": ".py",
   "mimetype": "text/x-python",
   "name": "python",
   "nbconvert_exporter": "python",
   "pygments_lexer": "ipython3",
   "version": "3.10.4"
  },
  "orig_nbformat": 4
 },
 "nbformat": 4,
 "nbformat_minor": 2
}
