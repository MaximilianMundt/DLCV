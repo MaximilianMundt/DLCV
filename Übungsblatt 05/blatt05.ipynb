{
 "cells": [
  {
   "cell_type": "code",
   "execution_count": 13,
   "metadata": {},
   "outputs": [
    {
     "name": "stdout",
     "output_type": "stream",
     "text": [
      "<nach Layer 0> Receptive Field = 1x1 = 1\n",
      "<nach Layer 1> Receptive Field = 7x7 = 49\n",
      "<nach Layer 2> Receptive Field = 11x11 = 121\n",
      "<nach Layer 3> Receptive Field = 22x22 = 484\n",
      "<nach Layer 4> Receptive Field = 24x24 = 576\n"
     ]
    }
   ],
   "source": [
    "kernel_sizes = [7, 5, 2, 3]\n",
    "strides = [1, 1, 2, 1]\n",
    "\n",
    "\n",
    "def recep_field(layer):\n",
    "    if layer == 0:\n",
    "        return 1\n",
    "\n",
    "    return (\n",
    "        strides[layer - 1] * recep_field(layer - 1)\n",
    "        + kernel_sizes[layer - 1]\n",
    "        - strides[layer - 1]\n",
    "    )\n",
    "\n",
    "\n",
    "for i in range(0, len(kernel_sizes) + 1):\n",
    "    field = recep_field(layer=i)\n",
    "    answer = f\"<nach Layer {i}> Receptive Field = {field}x{field} = {field**2}\"\n",
    "\n",
    "    print(answer)\n"
   ]
  }
 ],
 "metadata": {
  "interpreter": {
   "hash": "c0607b7e7396128a2d7e78cc9d0b66846c9f0e95289e07c167207009762dd145"
  },
  "kernelspec": {
   "display_name": "Python 3.10.4 ('pytorch')",
   "language": "python",
   "name": "python3"
  },
  "language_info": {
   "codemirror_mode": {
    "name": "ipython",
    "version": 3
   },
   "file_extension": ".py",
   "mimetype": "text/x-python",
   "name": "python",
   "nbconvert_exporter": "python",
   "pygments_lexer": "ipython3",
   "version": "3.10.4"
  },
  "orig_nbformat": 4
 },
 "nbformat": 4,
 "nbformat_minor": 2
}
