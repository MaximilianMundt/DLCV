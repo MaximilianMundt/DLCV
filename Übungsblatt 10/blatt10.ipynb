{
 "cells": [
  {
   "cell_type": "code",
   "execution_count": null,
   "metadata": {},
   "outputs": [],
   "source": [
    "import torch\n",
    "from handout_ae import *\n",
    "from handout_gan import * "
   ]
  }
 ],
 "metadata": {
  "kernelspec": {
   "display_name": "Python 3.10.4 ('pytorch-gpu')",
   "language": "python",
   "name": "python3"
  },
  "language_info": {
   "name": "python",
   "version": "3.10.4"
  },
  "orig_nbformat": 4,
  "vscode": {
   "interpreter": {
    "hash": "11b86b49767a4cdd876b17191128a419d55462c8b6ceaa53e1735c0915e6a257"
   }
  }
 },
 "nbformat": 4,
 "nbformat_minor": 2
}
