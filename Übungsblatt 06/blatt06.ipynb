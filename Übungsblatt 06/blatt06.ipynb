{
 "cells": [
  {
   "cell_type": "markdown",
   "metadata": {},
   "source": [
    "# Deep Learning für Visual Computing: Übungsblatt 06\n",
    "\n",
    "**Von: Maximilian Mundt, Radmehr Nouri Inanlou**\n",
    "\n",
    "**Abgabe: 01.06.2022**"
   ]
  },
  {
   "cell_type": "code",
   "execution_count": 1,
   "metadata": {},
   "outputs": [],
   "source": [
    "import torch\n",
    "import handout\n",
    "import visualize\n",
    "from torch.utils.data import DataLoader\n"
   ]
  },
  {
   "cell_type": "markdown",
   "metadata": {},
   "source": [
    "*Bei diesem Zettel haben wir wieder mehr Zeit mit dem Verstehen der Aufgaben verbracht als mit dem wirklichen Coden, das war leider etwas frustrierend. Wir wussten nicht genau, was wir denn jetzt eigentlich machen sollten, besonders bei Aufgaben wie \"Bauen Sie ein CNN, das dem VGG-Netz ähnlich ist\". Wir haben in `handout.py` immer mal wieder den Konstruktur der Klassen etwas geändert, weil sie wie sie vorher waren für uns wenig Sinn gemacht haben bzw. irgendwie missverständlich waren, hoffentlich ist das in Ordnung.*"
   ]
  },
  {
   "cell_type": "markdown",
   "metadata": {},
   "source": [
    "## a) Schwierigkeiten beim Training eines NN"
   ]
  },
  {
   "cell_type": "markdown",
   "metadata": {},
   "source": [
    "Finden Sie die 5 Probleme, die sich in dem Code verstecken, beheben Sie die Probleme und erklären\n",
    "Sie was der Fehler war."
   ]
  },
  {
   "cell_type": "markdown",
   "metadata": {},
   "source": [
    "*Die Fehler haben wir in der Errors Datei verbessert und dabei immer kommentiert, was der Fehler war. In den Methoden insgesamt haben wir 4 Fehler gefunden und meinen, den 5. in dem `__name__ == \"__main__\"`-Teil gefunden zu haben.*"
   ]
  },
  {
   "cell_type": "markdown",
   "metadata": {},
   "source": [
    "In Aufgabenteil 2 in `errors.py`, soll ein MLP trainiert werden, dass 18 Layer\n",
    "hat und Sigmoid Aktiverungsfunktionen verwendet. Kann das funktionieren und was\n",
    "passiert wenn wir stattdessen ReLU verwenden würden? Begründen Sie ihre Antwort\n",
    "sowohl mit theoretischen als auch empirischen Beobachtungen."
   ]
  },
  {
   "cell_type": "markdown",
   "metadata": {},
   "source": [
    "*Durch die Visualisierungen und die Accuracy von 50 Prozent nach dem Training sieht man schon, dass das Modell so nicht gut funktionieren kann. Hier handelt es sich um das Vanishing Gradient Problem, denn durch die Sigmoid Funktion in jedem Layer wird der Gradient einfach viel zu klein. Wenn man nun noch die Gradienten aller 18 Layer bei der Backpropagation zusammenmultipliziert, dann wird das Ergebnis immer kleiner und so kann das Netzwerk kaum bzw. gar nicht trainieren. So viel zur Theorie, dies sieht man auch praktisch, wenn man sich die Gewichte und Gradienten der Layer anschaut (siehe `errors.py` am Ende)*\n",
    "\n",
    "*ReLU würde das Problem hier nur teilweise beheben (in der Theorie), da die Gradienten bei dieser Funktion nicht so unendlich klein werden. Wir haben das Netzwerk mit ReLU und 18 Layern getestet, es performed aber nicht besser als mit Sigmoid. 18 Layer sind hier generell für diese Aufgabe einfach viel zu viel, da kann man nicht viel ändern.*"
   ]
  },
  {
   "cell_type": "markdown",
   "metadata": {},
   "source": [
    "## b) Konvolutions-Netzwerke und Klassifizierung"
   ]
  },
  {
   "cell_type": "markdown",
   "metadata": {},
   "source": [
    "Vervollständigen Sie die Funktionen ``train_multiclass`` und ``evaluate_multiclass``\n",
    "so dass ein Neuronales Netzwerk für \"multiclass\"-Klassifikation trainiert werden kann."
   ]
  },
  {
   "cell_type": "markdown",
   "metadata": {},
   "source": [
    "*siehe `handout.py`*"
   ]
  },
  {
   "cell_type": "markdown",
   "metadata": {},
   "source": [
    "Vervollständigen Sie die Klassen ``ConvBlock`` und ``MultiClassifierCNN`` in ``handout.py``."
   ]
  },
  {
   "cell_type": "markdown",
   "metadata": {},
   "source": [
    "*siehe `handout.py`*"
   ]
  },
  {
   "cell_type": "markdown",
   "metadata": {},
   "source": [
    "Trainieren Sie Ihr CNN auf dem FashionMNIST Datensatz entsprechend\n",
    "der folgenden drei Methoden: ...\n",
    "Visualisieren Sie die Fehlerkurve während des Trainings, geben Sie die Genauigkeit\n",
    "auf dem Test-Datensatz vor und nach dem Training der CNNs an und erläutern Sie\n",
    "Ihre Beobachtungen. "
   ]
  },
  {
   "cell_type": "markdown",
   "metadata": {},
   "source": [
    "*Wir trainieren hier nur durch die 3. Methode mit geshuffelten Daten und Batch Size 64. Die ersten beiden Methoden wären ja wahrscheinlich dafür dagewesen zu zeigen, dass das sortieren und gruppieren generell kein guter Ansatz zum Trainieren ist, so beeinflusst man ja das Netz, indem man am Anfang immer nur \"dieselben\" Daten als Trainingsinput hat. Das Training hat übrigens 22 min gedauert mit einem Ryzen 5 3600.*"
   ]
  },
  {
   "cell_type": "code",
   "execution_count": 2,
   "metadata": {},
   "outputs": [
    {
     "name": "stdout",
     "output_type": "stream",
     "text": [
      "Epoch 1/10: CrossEntropy = 0.3986\n",
      "Epoch 2/10: CrossEntropy = 0.3020\n",
      "Epoch 3/10: CrossEntropy = 0.1788\n",
      "Epoch 4/10: CrossEntropy = 0.0920\n",
      "Epoch 5/10: CrossEntropy = 0.2360\n",
      "Epoch 6/10: CrossEntropy = 0.0229\n",
      "Epoch 7/10: CrossEntropy = 0.0495\n",
      "Epoch 8/10: CrossEntropy = 0.0539\n",
      "Epoch 9/10: CrossEntropy = 0.0297\n",
      "Epoch 10/10: CrossEntropy = 0.0389\n"
     ]
    }
   ],
   "source": [
    "train_data = handout.FashionMNISTDataset(train=True)\n",
    "train_dataloader = DataLoader(train_data, shuffle=True, batch_size=64)\n",
    "\n",
    "model = handout.MultiClassifierCNN(img_shape=(28, 28, 1), n_classes=10, activation_fn=torch.nn.ReLU)\n",
    "optimizer = torch.optim.Adam(model.parameters())\n",
    "\n",
    "loss_curve = handout.train_multiclass(train_dataloader, model, optimizer, 10)\n"
   ]
  },
  {
   "cell_type": "markdown",
   "metadata": {},
   "source": [
    "*Wir plotten hier nur jeden 100sten Wert, weil das Diagramm sonst sehr voll wäre.*"
   ]
  },
  {
   "cell_type": "code",
   "execution_count": 3,
   "metadata": {},
   "outputs": [
    {
     "data": {
      "image/png": "[encoded data removed]",
      "text/plain": [
       "<Figure size 432x288 with 1 Axes>"
      ]
     },
     "metadata": {
      "needs_background": "light"
     },
     "output_type": "display_data"
    }
   ],
   "source": [
    "visualize.show_loss_curve(loss_curve[::100])"
   ]
  },
  {
   "cell_type": "code",
   "execution_count": 6,
   "metadata": {},
   "outputs": [
    {
     "name": "stdout",
     "output_type": "stream",
     "text": [
      "Accuracy: 0.9891\n"
     ]
    }
   ],
   "source": [
    "test_data = handout.FashionMNISTDataset(train=False)\n",
    "test_dataloader = DataLoader(train_data)\n",
    "\n",
    "accuracy = handout.evaluate_multiclass(test_dataloader, model)\n",
    "print(\"Accuracy:\", round(accuracy, 4))"
   ]
  },
  {
   "cell_type": "markdown",
   "metadata": {},
   "source": [
    "*Irgendwas ist hier oder beim Training bestimmt schiefgelaufen. 98 Prozent ist gefühlt viel zu hoch für eine solche Aufgabe, oder?*"
   ]
  },
  {
   "cell_type": "markdown",
   "metadata": {},
   "source": [
    "Vervollständigen Sie die Klasse ``MultiClassifierMLP`` und trainieren Sie\n",
    "dieses MLP entsprechend den Erkenntnissen aus dem vorherigen Aufgabenteil. Visualisieren Sie die Fehlerkurve während des Trainings, geben Sie die Genauigkeit auf dem\n",
    "Test-Datensatz an und vergleichen Sie die Ergebnisse mit den Ergebnissen des CNNs.\n",
    "Gehen Sie in Ihrem Vergleich auf die Anzahl der Gewichte und die Trainingszeit beider\n",
    "Netzwerke ein.\n"
   ]
  },
  {
   "cell_type": "markdown",
   "metadata": {},
   "source": [
    "*Was soll man denn hier jetzt bauen? Wie viele Layer? Wie viele Neuronen?*"
   ]
  }
 ],
 "metadata": {
  "interpreter": {
   "hash": "c0607b7e7396128a2d7e78cc9d0b66846c9f0e95289e07c167207009762dd145"
  },
  "kernelspec": {
   "display_name": "Python 3.10.4 ('pytorch')",
   "language": "python",
   "name": "python3"
  },
  "language_info": {
   "codemirror_mode": {
    "name": "ipython",
    "version": 3
   },
   "file_extension": ".py",
   "mimetype": "text/x-python",
   "name": "python",
   "nbconvert_exporter": "python",
   "pygments_lexer": "ipython3",
   "version": "3.10.4"
  },
  "orig_nbformat": 4
 },
 "nbformat": 4,
 "nbformat_minor": 2
}
