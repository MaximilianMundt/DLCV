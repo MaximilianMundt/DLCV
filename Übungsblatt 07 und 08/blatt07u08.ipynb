{
 "cells": [
  {
   "cell_type": "code",
   "execution_count": null,
   "metadata": {},
   "outputs": [],
   "source": [
    "from handout import create_augmented_dataset, train, evaluate, CIFAR10Classifier\n",
    "from visualize import show_loss_curve, show_image_grid\n",
    "from torch.utils.data import Subset, DataLoader\n",
    "import torch"
   ]
  },
  {
   "cell_type": "code",
   "execution_count": null,
   "metadata": {},
   "outputs": [],
   "source": [
    "CLASSES = (\"plane\", \"car\", \"bird\", \"cat\", \"deer\", \"dog\", \"frog\", \"horse\", \"ship\", \"truck\")\n",
    "\n",
    "train_data = create_augmented_dataset(train=True)\n",
    "train_dataloader = DataLoader(train_data, batch_size=64, shuffle=True\n",
    ")\n",
    "\n",
    "test_data = create_augmented_dataset(train=False)\n",
    "test_dataloader = DataLoader(test_data, batch_size=36, shuffle=True)"
   ]
  },
  {
   "cell_type": "code",
   "execution_count": null,
   "metadata": {},
   "outputs": [],
   "source": [
    "model = CIFAR10Classifier()\n",
    "# model.summary()\n",
    "\n",
    "history = train(model=model, dataloader=train_dataloader, epochs=10)\n",
    "show_loss_curve(history)"
   ]
  },
  {
   "cell_type": "code",
   "execution_count": null,
   "metadata": {},
   "outputs": [],
   "source": [
    "test_iterator = iter(test_dataloader)\n",
    "images, labels = next(test_iterator)\n",
    "with torch.no_grad():\n",
    "    predictions = model(images)\n",
    "    predictions_as_labels = torch.argmax(predictions, 1)\n",
    "\n",
    "    show_image_grid(images, labels, predictions_as_labels)"
   ]
  },
  {
   "cell_type": "code",
   "execution_count": null,
   "metadata": {},
   "outputs": [],
   "source": [
    "print(f\"Accuracy: {evaluate(model, test_dataloader)}\")"
   ]
  }
 ],
 "metadata": {
  "interpreter": {
   "hash": "05e1334b1e821dbcbabad47fa6c3b15cd156c9f620a33f6e653d7b3fa5feadb9"
  },
  "kernelspec": {
   "display_name": "Python 3.10.4 ('pytorch')",
   "language": "python",
   "name": "python3"
  },
  "language_info": {
   "codemirror_mode": {
    "name": "ipython",
    "version": 3
   },
   "file_extension": ".py",
   "mimetype": "text/x-python",
   "name": "python",
   "nbconvert_exporter": "python",
   "pygments_lexer": "ipython3",
   "version": "3.10.4"
  },
  "orig_nbformat": 4
 },
 "nbformat": 4,
 "nbformat_minor": 2
}
