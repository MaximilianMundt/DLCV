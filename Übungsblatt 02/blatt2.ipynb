{
 "cells": [
  {
   "cell_type": "markdown",
   "metadata": {},
   "source": [
    "# Deep Learning für Visual Computing: Übungsblatt 02\n",
    "\n",
    "\n",
    "**Von: Maximilian Mundt, Radmehr Nouri Inanlou**\n",
    "\n",
    "**Abgabe: 27.04.2022**"
   ]
  },
  {
   "cell_type": "markdown",
   "metadata": {},
   "source": [
    "## Importe für diese Hausaufgabe"
   ]
  },
  {
   "cell_type": "code",
   "execution_count": 2,
   "metadata": {},
   "outputs": [],
   "source": [
    "import torch\n",
    "import matplotlib.pyplot as plt\n",
    "import numpy as np\n",
    "\n",
    "plt.rcParams.update({\"font.size\": 14})\n"
   ]
  },
  {
   "cell_type": "markdown",
   "metadata": {},
   "source": [
    "## a) Uneingeschränkte Optimierung"
   ]
  },
  {
   "cell_type": "markdown",
   "metadata": {},
   "source": [
    "Implementieren Sie eine Funktion `rosenbrock(x, y, a, b)`, die sowohl den Funktionswert $f(x, y)$ entsprechend Gleichung (1) für die Parameter $a, b$ zurückgibt, als auch\n",
    "den Wert des Gradienten $\\nabla f(x, y)$."
   ]
  },
  {
   "cell_type": "code",
   "execution_count": 3,
   "metadata": {},
   "outputs": [],
   "source": [
    "def rosenbrock(x, y, a, b):\n",
    "    f = (a - x) ** 2 + b * (y - x**2) ** 2\n",
    "\n",
    "    gradient = np.array([-2 * a + 4 * b * x**3 - 4 * b * x * y + 2 * x, 2 * b * (y - x**2)])\n",
    "\n",
    "    return f, gradient\n"
   ]
  },
  {
   "cell_type": "markdown",
   "metadata": {},
   "source": [
    "Implementieren Sie eine Funktion, die die Rosenbrock Funktion als logarithmisches\n",
    "Konturdiagramm (logarithmisch entlang $z$-Achse) im Intervall $[−4, 4]^2$ mit Parametern\n",
    "$a = 1$ und $b = 100$ visualisiert. Zusätzlich soll in dem selben Plot das globale Minimum\n",
    "$(x, y) = (1, 1)$ der Funktion markiert sein.\n"
   ]
  },
  {
   "cell_type": "code",
   "execution_count": 4,
   "metadata": {},
   "outputs": [
    {
     "data": {
      "image/png": "[encoded data removed]",
      "text/plain": [
       "<Figure size 720x432 with 2 Axes>"
      ]
     },
     "metadata": {
      "needs_background": "light"
     },
     "output_type": "display_data"
    }
   ],
   "source": [
    "def rosenbrock_contour(history=None):\n",
    "    a = 1\n",
    "    b = 100\n",
    "\n",
    "    x = y = np.linspace(-4, 4, 1000)\n",
    "    X, Y = np.meshgrid(x, y)\n",
    "\n",
    "    Z = np.log(rosenbrock(X, Y, a, b)[0])\n",
    "\n",
    "    fig, ax = plt.subplots(1, 1, figsize=(10, 6))\n",
    "\n",
    "    cs = ax.contourf(X, Y, Z, zorder=0)\n",
    "    fig.colorbar(cs)\n",
    "\n",
    "    if not history is None:\n",
    "        ax.scatter(history[:, 0], history[:, 1], color=\"blue\", alpha=0.4, label=\"Steps\")\n",
    "        \n",
    "    ax.scatter(1, 1, color=\"red\", label=\"Minimum $(1,1)$\")\n",
    "\n",
    "    ax.legend(loc=\"lower right\")\n",
    "    ax.set_title(\"Rosenbrock Funktion mit $a=1$ und $b=100$\")\n",
    "    ax.set_xlabel(\"x\")\n",
    "    ax.set_ylabel(\"y\")\n",
    "\n",
    "    #plt.savefig(\"figure.png\", dpi=300, facecolor=\"white\")\n",
    "\n",
    "\n",
    "rosenbrock_contour()\n"
   ]
  },
  {
   "cell_type": "markdown",
   "metadata": {},
   "source": [
    "Implementieren Sie eine Klasse `GradientDescent`, die Gradientenabstieg ohne Momentum verwendet, um den Parameter optimieren."
   ]
  },
  {
   "cell_type": "code",
   "execution_count": 5,
   "metadata": {},
   "outputs": [],
   "source": [
    "class GradientDescent:\n",
    "    def __init__(self, theta, learning_rate):\n",
    "        self.theta = theta\n",
    "        self.learning_rate = learning_rate\n",
    "\n",
    "    def step(self, grad):\n",
    "        self.theta = self.theta - self.learning_rate * grad\n"
   ]
  },
  {
   "cell_type": "markdown",
   "metadata": {},
   "source": [
    "Implementieren Sie eine Klasse `MomentumGradientDescent`, die Gradientenabstieg mit\n",
    "Momentum verwendet, um den Parameter optimieren."
   ]
  },
  {
   "cell_type": "code",
   "execution_count": 6,
   "metadata": {},
   "outputs": [],
   "source": [
    "class MomentumGradientDescent:\n",
    "    def __init__(self, theta, learning_rate, momentum_coef, initial_velocity):\n",
    "        self.theta = theta\n",
    "        self.learning_rate = learning_rate\n",
    "        self.momentum_coef = momentum_coef\n",
    "        self.velocity = initial_velocity\n",
    "\n",
    "    def step(self, grad):\n",
    "        self.velocity = self.momentum_coef * self.velocity - self.learning_rate * grad\n",
    "        self.theta = self.theta + self.velocity\n"
   ]
  },
  {
   "cell_type": "markdown",
   "metadata": {},
   "source": [
    "Implementieren Sie eine Klasse `RMSPropGradientDescent`, die RMSProp ohne Momentum verwendet, um den Parameter optimieren."
   ]
  },
  {
   "cell_type": "code",
   "execution_count": 77,
   "metadata": {},
   "outputs": [],
   "source": [
    "class RMSPropGradient:\n",
    "    def __init__(self, theta, learning_rate, decay_rate, small_constant):\n",
    "        self.theta = theta\n",
    "        self.learning_rate = learning_rate\n",
    "        self.decay_rate = decay_rate\n",
    "        self.small_constant = small_constant\n",
    "        self.squared_gradient = 0\n",
    "\n",
    "    def step(self, grad):\n",
    "        self.squared_gradient = self.decay_rate * self.squared_gradient + (\n",
    "            1 - self.decay_rate\n",
    "        ) * (grad**2)\n",
    "        parameter_update = (\n",
    "            -1 * self.learning_rate / np.sqrt(self.small_constant + self.squared_gradient) * grad\n",
    "        )\n",
    "        self.theta = self.theta + parameter_update\n"
   ]
  },
  {
   "cell_type": "markdown",
   "metadata": {},
   "source": [
    "Implementieren Sie eine Klasse `AdaMomentumGradientDescent`, die RMSProp mit Momentum kombiniert, um den Parameter optimieren"
   ]
  },
  {
   "cell_type": "code",
   "execution_count": 8,
   "metadata": {},
   "outputs": [],
   "source": [
    "class MomentumRMSPropGradient:\n",
    "    def __init__(self, theta, learning_rate, decay_rate, momentum_coef, initial_velocity):\n",
    "        self.theta = theta\n",
    "        self.learning_rate = learning_rate\n",
    "        self.decay_rate = decay_rate\n",
    "        self.momentum_coef = momentum_coef\n",
    "        self.velocity = initial_velocity\n",
    "        self.squared_gradient = 0\n",
    "\n",
    "    def step(self, grad):\n",
    "        pass\n"
   ]
  },
  {
   "cell_type": "markdown",
   "metadata": {},
   "source": [
    "Verwenden Sie die Methoden um das globale\n",
    "Minimum der Rosenbrock Funktion zu finden, angefangen von dem Punkt $(x, y) = (−2, −2)$.\n",
    "Implementieren Sie dazu eine Funktion `optimize(optim, steps)`, die eine Instanz eines\n",
    "Optimierungsverfahrens als Argument nimmt und den Algorithmus `steps`-mal anwendet\n",
    "um das Minimum der Rosenbrock Funktion mit Parameter $a = 1, b = 100$ zu finden. "
   ]
  },
  {
   "cell_type": "code",
   "execution_count": 78,
   "metadata": {},
   "outputs": [
    {
     "name": "stdout",
     "output_type": "stream",
     "text": [
      "final point: [0.18586709 0.10799402]\n"
     ]
    },
    {
     "data": {
      "image/png": "[encoded data removed]",
      "text/plain": [
       "<Figure size 720x432 with 2 Axes>"
      ]
     },
     "metadata": {
      "needs_background": "light"
     },
     "output_type": "display_data"
    }
   ],
   "source": [
    "def optimize(optim, steps):\n",
    "    points = []\n",
    "\n",
    "    for _ in range(steps):\n",
    "        points.append(optim.theta)\n",
    "        x = optim.theta[0]\n",
    "        y = optim.theta[1]\n",
    "\n",
    "        gradient = rosenbrock(x, y, 1, 100)[1]\n",
    "\n",
    "        optim.step(gradient)\n",
    "\n",
    "    print(\"final point:\", optim.theta)\n",
    "\n",
    "    return np.array(points)\n",
    "    \n",
    "\n",
    "starting_point = np.array([-2, -2])\n",
    "optimizer = RMSPropGradient(starting_point, 0.1, 0.4, 1e-7)\n",
    "\n",
    "point_history = optimize(optimizer, steps=100)\n",
    "\n",
    "rosenbrock_contour(point_history)"
   ]
  },
  {
   "cell_type": "markdown",
   "metadata": {},
   "source": [
    "## b) Mini-Batch Optimierung in Pytorch"
   ]
  },
  {
   "cell_type": "code",
   "execution_count": null,
   "metadata": {},
   "outputs": [],
   "source": [
    "# todo"
   ]
  },
  {
   "cell_type": "markdown",
   "metadata": {},
   "source": [
    "## c) Optimierung mit Nebenbedingungen"
   ]
  },
  {
   "cell_type": "code",
   "execution_count": null,
   "metadata": {},
   "outputs": [],
   "source": [
    "# todo"
   ]
  }
 ],
 "metadata": {
  "interpreter": {
   "hash": "b03a09766fb077730d523d7cc7d8bbf5f028be592eb14e6dd629251b060318c5"
  },
  "kernelspec": {
   "display_name": "Python 3.10.4 ('pytorch')",
   "language": "python",
   "name": "python3"
  },
  "language_info": {
   "codemirror_mode": {
    "name": "ipython",
    "version": 3
   },
   "file_extension": ".py",
   "mimetype": "text/x-python",
   "name": "python",
   "nbconvert_exporter": "python",
   "pygments_lexer": "ipython3",
   "version": "3.10.4"
  },
  "orig_nbformat": 4
 },
 "nbformat": 4,
 "nbformat_minor": 2
}
