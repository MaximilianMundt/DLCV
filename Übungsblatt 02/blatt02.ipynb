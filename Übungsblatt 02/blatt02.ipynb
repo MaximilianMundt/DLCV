{
 "cells": [
  {
   "cell_type": "markdown",
   "metadata": {},
   "source": [
    "# Deep Learning für Visual Computing: Übungsblatt 02\n",
    "\n",
    "\n",
    "**Von: Maximilian Mundt, Radmehr Nouri Inanlou**\n",
    "\n",
    "**Abgabe: 27.04.2022**"
   ]
  },
  {
   "cell_type": "markdown",
   "metadata": {},
   "source": [
    "## Importe für diese Hausaufgabe"
   ]
  },
  {
   "cell_type": "code",
   "execution_count": 3,
   "metadata": {},
   "outputs": [],
   "source": [
    "import torch\n",
    "import matplotlib.pyplot as plt\n",
    "import numpy as np\n",
    "\n",
    "plt.rcParams.update({\"font.size\": 14})\n"
   ]
  },
  {
   "cell_type": "markdown",
   "metadata": {},
   "source": [
    "## a) Uneingeschränkte Optimierung"
   ]
  },
  {
   "cell_type": "markdown",
   "metadata": {},
   "source": [
    "Implementieren Sie eine Funktion `rosenbrock(x, y, a, b)`, die sowohl den Funktionswert $f(x, y)$ entsprechend Gleichung (1) für die Parameter $a, b$ zurückgibt, als auch\n",
    "den Wert des Gradienten $\\nabla f(x, y)$."
   ]
  },
  {
   "cell_type": "code",
   "execution_count": 4,
   "metadata": {},
   "outputs": [],
   "source": [
    "def rosenbrock(x, y, a, b):\n",
    "    f = (a - x) ** 2 + b * (y - x**2) ** 2\n",
    "\n",
    "    gradient = np.array([\n",
    "        -2 * a + 4 * b * x**3 - 4 * b * x * y + 2 * x,\n",
    "        2 * b * (y - x**2)\n",
    "    ])\n",
    "\n",
    "    return f, gradient\n"
   ]
  },
  {
   "cell_type": "markdown",
   "metadata": {},
   "source": [
    "Implementieren Sie eine Funktion, die die Rosenbrock Funktion als logarithmisches\n",
    "Konturdiagramm (logarithmisch entlang $z$-Achse) im Intervall $[−4, 4]^2$ mit Parametern\n",
    "$a = 1$ und $b = 100$ visualisiert. Zusätzlich soll in dem selben Plot das globale Minimum\n",
    "$(x, y) = (1, 1)$ der Funktion markiert sein.\n"
   ]
  },
  {
   "cell_type": "code",
   "execution_count": 5,
   "metadata": {},
   "outputs": [
    {
     "data": {
      "image/png": "[encoded data removed]",
      "text/plain": [
       "<Figure size 720x432 with 2 Axes>"
      ]
     },
     "metadata": {
      "needs_background": "light"
     },
     "output_type": "display_data"
    }
   ],
   "source": [
    "def rosenbrock_contour(history=None):\n",
    "    a = 1\n",
    "    b = 100\n",
    "\n",
    "    x = y = np.linspace(-4, 4, 1000)\n",
    "    X, Y = np.meshgrid(x, y)\n",
    "\n",
    "    Z = np.log(rosenbrock(X, Y, a, b)[0])\n",
    "\n",
    "    fig, ax = plt.subplots(1, 1, figsize=(10, 6))\n",
    "\n",
    "    cs = ax.contourf(X, Y, Z, zorder=0)\n",
    "    fig.colorbar(cs)\n",
    "\n",
    "    if not history is None:\n",
    "        ax.scatter(history[:, 0], history[:, 1], color=\"blue\", alpha=0.4, label=\"Steps\")\n",
    "        \n",
    "    ax.scatter(1, 1, color=\"red\", label=\"Minimum $(1,1)$\")\n",
    "\n",
    "    ax.legend(loc=\"lower right\")\n",
    "    ax.set_title(\"Rosenbrock Funktion mit $a=1$ und $b=100$\")\n",
    "    ax.set_xlabel(\"x\")\n",
    "    ax.set_ylabel(\"y\")\n",
    "\n",
    "    #plt.savefig(\"figure.png\", dpi=300, facecolor=\"white\")\n",
    "\n",
    "\n",
    "rosenbrock_contour()\n"
   ]
  },
  {
   "cell_type": "markdown",
   "metadata": {},
   "source": [
    "Implementieren Sie eine Klasse `GradientDescent`, die Gradientenabstieg ohne Momentum verwendet, um den Parameter optimieren."
   ]
  },
  {
   "cell_type": "code",
   "execution_count": 6,
   "metadata": {},
   "outputs": [],
   "source": [
    "class GradientDescent:\n",
    "    def __init__(self, theta, learning_rate):\n",
    "        self.theta = theta\n",
    "        self.learning_rate = learning_rate\n",
    "\n",
    "    def step(self, grad):\n",
    "        self.theta = self.theta - self.learning_rate * grad\n"
   ]
  },
  {
   "cell_type": "markdown",
   "metadata": {},
   "source": [
    "Implementieren Sie eine Klasse `MomentumGradientDescent`, die Gradientenabstieg mit\n",
    "Momentum verwendet, um den Parameter optimieren."
   ]
  },
  {
   "cell_type": "code",
   "execution_count": 7,
   "metadata": {},
   "outputs": [],
   "source": [
    "class MomentumGradientDescent:\n",
    "    def __init__(self, theta, learning_rate, momentum_coef, initial_velocity):\n",
    "        self.theta = theta\n",
    "        self.learning_rate = learning_rate\n",
    "        self.momentum_coef = momentum_coef\n",
    "        self.velocity = initial_velocity\n",
    "\n",
    "    def step(self, grad):\n",
    "        self.velocity = self.momentum_coef * self.velocity - self.learning_rate * grad\n",
    "        self.theta = self.theta + self.velocity\n"
   ]
  },
  {
   "cell_type": "markdown",
   "metadata": {},
   "source": [
    "Implementieren Sie eine Klasse `RMSPropGradientDescent`, die RMSProp ohne Momentum verwendet, um den Parameter optimieren."
   ]
  },
  {
   "cell_type": "code",
   "execution_count": 8,
   "metadata": {},
   "outputs": [],
   "source": [
    "class RMSPropGradient:\n",
    "    def __init__(self, theta, learning_rate, decay_rate, small_constant):\n",
    "        self.theta = theta\n",
    "        self.learning_rate = learning_rate\n",
    "        self.decay_rate = decay_rate\n",
    "        self.small_constant = small_constant\n",
    "        self.squared_gradient = 0\n",
    "\n",
    "    def step(self, grad):\n",
    "        self.squared_gradient = self.decay_rate * self.squared_gradient + (\n",
    "            1 - self.decay_rate\n",
    "        ) * (grad**2)\n",
    "        parameter_update = (\n",
    "            -1 * self.learning_rate / np.sqrt(self.small_constant + self.squared_gradient) * grad\n",
    "        )\n",
    "        self.theta = self.theta + parameter_update\n"
   ]
  },
  {
   "cell_type": "markdown",
   "metadata": {},
   "source": [
    "Implementieren Sie eine Klasse `AdaMomentumGradientDescent`, die RMSProp mit Momentum kombiniert, um den Parameter optimieren"
   ]
  },
  {
   "cell_type": "code",
   "execution_count": 9,
   "metadata": {},
   "outputs": [],
   "source": [
    "class MomentumRMSPropGradient:\n",
    "    def __init__(self, theta, learning_rate, decay_rate, momentum_coef, initial_velocity):\n",
    "        self.theta = theta\n",
    "        self.learning_rate = learning_rate\n",
    "        self.decay_rate = decay_rate\n",
    "        self.momentum_coef = momentum_coef\n",
    "        self.velocity = initial_velocity\n",
    "        self.squared_gradient = 0\n",
    "\n",
    "    def step(self, grad):\n",
    "        pass\n"
   ]
  },
  {
   "cell_type": "markdown",
   "metadata": {},
   "source": [
    "Verwenden Sie die Methoden um das globale\n",
    "Minimum der Rosenbrock Funktion zu finden, angefangen von dem Punkt $(x, y) = (−2, −2)$.\n",
    "Implementieren Sie dazu eine Funktion `optimize(optim, steps)`, die eine Instanz eines\n",
    "Optimierungsverfahrens als Argument nimmt und den Algorithmus `steps`-mal anwendet\n",
    "um das Minimum der Rosenbrock Funktion mit Parameter $a = 1, b = 100$ zu finden. "
   ]
  },
  {
   "cell_type": "code",
   "execution_count": 10,
   "metadata": {},
   "outputs": [
    {
     "name": "stdout",
     "output_type": "stream",
     "text": [
      "final point: [0.18586709 0.10799402]\n"
     ]
    },
    {
     "data": {
      "image/png": "[encoded data removed]",
      "text/plain": [
       "<Figure size 720x432 with 2 Axes>"
      ]
     },
     "metadata": {
      "needs_background": "light"
     },
     "output_type": "display_data"
    }
   ],
   "source": [
    "def optimize(optim, steps):\n",
    "    points = []\n",
    "\n",
    "    for _ in range(steps):\n",
    "        points.append(optim.theta)\n",
    "        x = optim.theta[0]\n",
    "        y = optim.theta[1]\n",
    "\n",
    "        gradient = rosenbrock(x, y, 1, 100)[1]\n",
    "\n",
    "        optim.step(gradient)\n",
    "\n",
    "    print(\"final point:\", optim.theta)\n",
    "\n",
    "    return np.array(points)\n",
    "    \n",
    "\n",
    "starting_point = np.array([-2, -2])\n",
    "optimizer = RMSPropGradient(starting_point, 0.1, 0.4, 1e-7)\n",
    "\n",
    "point_history = optimize(optimizer, steps=100)\n",
    "\n",
    "rosenbrock_contour(point_history)"
   ]
  },
  {
   "cell_type": "markdown",
   "metadata": {},
   "source": [
    "## b) Mini-Batch Optimierung in Pytorch"
   ]
  },
  {
   "cell_type": "markdown",
   "metadata": {},
   "source": [
    "Erstellen Sie einen Tensor, der für $x, y = (−1, −1)$ speichert und stellen Sie sicher, dass\n",
    "für diesen ein Gradient berechnet wird."
   ]
  },
  {
   "cell_type": "code",
   "execution_count": 126,
   "metadata": {},
   "outputs": [
    {
     "name": "stdout",
     "output_type": "stream",
     "text": [
      "tensor([-1., -1.], requires_grad=True)\n"
     ]
    }
   ],
   "source": [
    "theta = torch.Tensor((-1, -1))\n",
    "theta.requires_grad_()\n",
    "\n",
    "print(theta)"
   ]
  },
  {
   "cell_type": "markdown",
   "metadata": {},
   "source": [
    "Wählen Sie einen Optimierungsalgorithmus aus dem `torch.optim` Submodul aus und\n",
    "erzeugen Sie eine Instanz dieses Optimierers bei dem Sie den zuvor erzeugten Tensor\n",
    "als Parameter übergeben."
   ]
  },
  {
   "cell_type": "code",
   "execution_count": 127,
   "metadata": {},
   "outputs": [],
   "source": [
    "optimizer = torch.optim.Adam([theta])"
   ]
  },
  {
   "cell_type": "markdown",
   "metadata": {},
   "source": [
    "Implementieren Sie eine Funktion `rosenbrock_th(x, y, a, b)`, die nur Gleichung 1 berechnet (die Funktion muss nicht den Wert des Gradienten zurückgeben)."
   ]
  },
  {
   "cell_type": "code",
   "execution_count": 117,
   "metadata": {},
   "outputs": [],
   "source": [
    "def rosenbrock_th(x, y, a, b):\n",
    "    return (a - x) ** 2 + b * (y - x**2) ** 2\n"
   ]
  },
  {
   "cell_type": "markdown",
   "metadata": {},
   "source": [
    "Optimieren Sie den Parameter für 1000 Schritte. Achten Sie darauf, dass in der Schleife\n",
    "Ihres Programms, `optimizer.zero_grad()`, `loss.backward()` und `optimizer.step()`\n",
    "in der richtigen Reihenfolge aufgerufen werden."
   ]
  },
  {
   "cell_type": "code",
   "execution_count": 129,
   "metadata": {},
   "outputs": [
    {
     "data": {
      "text/plain": [
       "array([[-0.46982983, -0.33572978],\n",
       "       [-0.46982983, -0.33572978],\n",
       "       [-0.46982983, -0.33572978],\n",
       "       ...,\n",
       "       [-0.46982983, -0.33572978],\n",
       "       [-0.46982983, -0.33572978],\n",
       "       [-0.46982983, -0.33572978]], dtype=float32)"
      ]
     },
     "execution_count": 129,
     "metadata": {},
     "output_type": "execute_result"
    }
   ],
   "source": [
    "point_history = []\n",
    "\n",
    "for _ in range(1000):\n",
    "    true_value = 0\n",
    "    pred = rosenbrock_th(theta[0], theta[1], 1, 100)\n",
    "    \n",
    "    mse = pred**2\n",
    "    mse.backward()\n",
    "    \n",
    "    optimizer.step()\n",
    "    optimizer.zero_grad()\n",
    "    \n",
    "    point_history.append(theta.detach().numpy())\n",
    "\n",
    "\n",
    "np.array(point_history)"
   ]
  },
  {
   "cell_type": "markdown",
   "metadata": {},
   "source": [
    "Visualisieren Sie die Rosenbrock Funktion, ihr Minimum und die Punkte, die während der Optimierung erzeugt wurden, in einem Plot."
   ]
  },
  {
   "cell_type": "code",
   "execution_count": 113,
   "metadata": {},
   "outputs": [
    {
     "data": {
      "image/png": "[encoded data removed]",
      "text/plain": [
       "<Figure size 720x432 with 2 Axes>"
      ]
     },
     "metadata": {
      "needs_background": "light"
     },
     "output_type": "display_data"
    }
   ],
   "source": [
    "rosenbrock_contour(point_history)"
   ]
  },
  {
   "cell_type": "markdown",
   "metadata": {},
   "source": [
    "Implementieren Sie eine Klasse, die von torch.nn.Module erbt. Stellen Sie sicher,\n",
    "dass im Konstruktor Ihrer Klasse, der Konstruktor der Elternklasse aufgerufen wird.\n",
    "Dar¨uber hinaus soll der Konstruktor Ihrer Klasse die Parameter $a', b'$ als Membervariablen hinzufügen und mit zuf¨alligen Werten initialisieren. Zusätzlich soll Ihre Klasse\n",
    "noch die Methode `forward(self, xy)` implementieren, die den Funktionswert der\n",
    "Rosenbrock Funktion für die Argumente $x, y$ mit den Parametern $a', b'$\n",
    "zurückgibt."
   ]
  },
  {
   "cell_type": "code",
   "execution_count": 104,
   "metadata": {},
   "outputs": [],
   "source": [
    "class Model(torch.nn.Module):\n",
    "    def __init__(self):\n",
    "        super().__init__()\n",
    "        self.a_prime = np.random.rand()\n",
    "        self.b_prime = np.random.rand()\n",
    "\n",
    "    def forward(self, x, y):\n",
    "        return rosenbrock_th(x, y, self.a_prime, self.b_prime)\n"
   ]
  },
  {
   "cell_type": "markdown",
   "metadata": {},
   "source": [
    "Erzeugen Sie eine Instanz Ihrer Klasse und verwenden Sie den mini-batch Ansatz\n",
    "aus der Vorlesung zusammen mit den oben beschrieben Techniken um den erwarteten L1-Fehler zwischen der Schätzung Ihrer Klasse $f'(x, y)$ und der tatsächlichen Werten\n",
    "$z = f(x, y)$ zu minimieren"
   ]
  },
  {
   "cell_type": "code",
   "execution_count": 105,
   "metadata": {},
   "outputs": [],
   "source": [
    "# todo"
   ]
  },
  {
   "cell_type": "markdown",
   "metadata": {},
   "source": [
    "Visualisieren Sie die Fehlerkurve für die ersten 100 Schritte der Optimierung bei einer\n",
    "Batchgröße von 1, 32 und 128 in einem Plot. Welchen Einfluss hat die Batchgröße auf\n",
    "das Konvergenzverhalten der Optimierung?"
   ]
  },
  {
   "cell_type": "code",
   "execution_count": 106,
   "metadata": {},
   "outputs": [],
   "source": [
    "# todo"
   ]
  },
  {
   "cell_type": "markdown",
   "metadata": {},
   "source": [
    "## c) Optimierung mit Nebenbedingungen"
   ]
  },
  {
   "cell_type": "markdown",
   "metadata": {},
   "source": [
    "Implementieren Sie eine Klasse `ConstraintOptimizer`, die von der Klasse\n",
    "`torch.optim.Optimizer` erbt. Der Konstruktor Ihrer Klasse soll eine Liste von Parametern und eine Lernrate als Argument erwarten. Erstellen Sie ein Dictionary, das\n",
    "einen Schlüssel `lr` mit den Lernraten als Wert enthält. Rufen Sie den Konstruktor der\n",
    "übergeordneten Klasse auf und übergeben Sie die Parameterliste und das Dictionary als Argumente.\n"
   ]
  },
  {
   "cell_type": "code",
   "execution_count": 130,
   "metadata": {},
   "outputs": [],
   "source": [
    "class ContraintOptimizer(torch.optim.Optimizer):\n",
    "    def __init__(self, parameters, lr):\n",
    "        dict = { \"lr\": lr }\n",
    "        super().__init__(parameters, dict)\n",
    "\n",
    "    @torch.no_grad\n",
    "    def step(self, closure=None):\n",
    "        pass"
   ]
  }
 ],
 "metadata": {
  "interpreter": {
   "hash": "b03a09766fb077730d523d7cc7d8bbf5f028be592eb14e6dd629251b060318c5"
  },
  "kernelspec": {
   "display_name": "Python 3.10.4 ('pytorch')",
   "language": "python",
   "name": "python3"
  },
  "language_info": {
   "codemirror_mode": {
    "name": "ipython",
    "version": 3
   },
   "file_extension": ".py",
   "mimetype": "text/x-python",
   "name": "python",
   "nbconvert_exporter": "python",
   "pygments_lexer": "ipython3",
   "version": "3.10.4"
  },
  "orig_nbformat": 4
 },
 "nbformat": 4,
 "nbformat_minor": 2
}
